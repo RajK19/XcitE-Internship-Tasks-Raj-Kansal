{
  "nbformat": 4,
  "nbformat_minor": 0,
  "metadata": {
    "colab": {
      "name": "Task 2 XcitE Internship (Raj Kansal).ipynb",
      "provenance": []
    },
    "kernelspec": {
      "name": "python3",
      "display_name": "Python 3"
    },
    "language_info": {
      "name": "python"
    }
  },
  "cells": [
    {
      "cell_type": "markdown",
      "source": [
        "**Task 2: To create a linear regression program in python without using any external libraries**"
      ],
      "metadata": {
        "id": "03hXT3rXgbdB"
      }
    },
    {
      "cell_type": "markdown",
      "source": [
        "**COLAB LINK: https://colab.research.google.com/drive/1id8X-Pg5BGg_Mx7S-uNyRkg2K1B0mw8u?usp=sharing**"
      ],
      "metadata": {
        "id": "zxo8ahEmiAgb"
      }
    },
    {
      "cell_type": "markdown",
      "source": [
        "Name: Raj Kansal <br>\n",
        "Email: rajkansal2001@gmail.com <br>\n",
        "Contact: 9309741329"
      ],
      "metadata": {
        "id": "06ebGQfJgSj0"
      }
    },
    {
      "cell_type": "code",
      "execution_count": null,
      "metadata": {
        "id": "dD5TzMVyxvCr"
      },
      "outputs": [],
      "source": [
        "import pandas as pd"
      ]
    },
    {
      "cell_type": "code",
      "source": [
        "df = pd.read_csv(\"https://raw.githubusercontent.com/AdiPersonalWorks/Random/master/student_scores%20-%20student_scores.csv\")"
      ],
      "metadata": {
        "id": "-96Uc_c2x1iM"
      },
      "execution_count": 5,
      "outputs": []
    },
    {
      "cell_type": "code",
      "source": [
        "df"
      ],
      "metadata": {
        "id": "DA-kvkwU0IZj",
        "colab": {
          "base_uri": "https://localhost:8080/",
          "height": 833
        },
        "outputId": "ab17f5f5-32c3-4aa1-cd85-d0de8f29e5aa"
      },
      "execution_count": 6,
      "outputs": [
        {
          "output_type": "execute_result",
          "data": {
            "text/plain": [
              "    Hours  Scores\n",
              "0     2.5      21\n",
              "1     5.1      47\n",
              "2     3.2      27\n",
              "3     8.5      75\n",
              "4     3.5      30\n",
              "5     1.5      20\n",
              "6     9.2      88\n",
              "7     5.5      60\n",
              "8     8.3      81\n",
              "9     2.7      25\n",
              "10    7.7      85\n",
              "11    5.9      62\n",
              "12    4.5      41\n",
              "13    3.3      42\n",
              "14    1.1      17\n",
              "15    8.9      95\n",
              "16    2.5      30\n",
              "17    1.9      24\n",
              "18    6.1      67\n",
              "19    7.4      69\n",
              "20    2.7      30\n",
              "21    4.8      54\n",
              "22    3.8      35\n",
              "23    6.9      76\n",
              "24    7.8      86"
            ],
            "text/html": [
              "\n",
              "  <div id=\"df-c40a2ac8-fa07-4b7f-9c63-6352088b5a46\">\n",
              "    <div class=\"colab-df-container\">\n",
              "      <div>\n",
              "<style scoped>\n",
              "    .dataframe tbody tr th:only-of-type {\n",
              "        vertical-align: middle;\n",
              "    }\n",
              "\n",
              "    .dataframe tbody tr th {\n",
              "        vertical-align: top;\n",
              "    }\n",
              "\n",
              "    .dataframe thead th {\n",
              "        text-align: right;\n",
              "    }\n",
              "</style>\n",
              "<table border=\"1\" class=\"dataframe\">\n",
              "  <thead>\n",
              "    <tr style=\"text-align: right;\">\n",
              "      <th></th>\n",
              "      <th>Hours</th>\n",
              "      <th>Scores</th>\n",
              "    </tr>\n",
              "  </thead>\n",
              "  <tbody>\n",
              "    <tr>\n",
              "      <th>0</th>\n",
              "      <td>2.5</td>\n",
              "      <td>21</td>\n",
              "    </tr>\n",
              "    <tr>\n",
              "      <th>1</th>\n",
              "      <td>5.1</td>\n",
              "      <td>47</td>\n",
              "    </tr>\n",
              "    <tr>\n",
              "      <th>2</th>\n",
              "      <td>3.2</td>\n",
              "      <td>27</td>\n",
              "    </tr>\n",
              "    <tr>\n",
              "      <th>3</th>\n",
              "      <td>8.5</td>\n",
              "      <td>75</td>\n",
              "    </tr>\n",
              "    <tr>\n",
              "      <th>4</th>\n",
              "      <td>3.5</td>\n",
              "      <td>30</td>\n",
              "    </tr>\n",
              "    <tr>\n",
              "      <th>5</th>\n",
              "      <td>1.5</td>\n",
              "      <td>20</td>\n",
              "    </tr>\n",
              "    <tr>\n",
              "      <th>6</th>\n",
              "      <td>9.2</td>\n",
              "      <td>88</td>\n",
              "    </tr>\n",
              "    <tr>\n",
              "      <th>7</th>\n",
              "      <td>5.5</td>\n",
              "      <td>60</td>\n",
              "    </tr>\n",
              "    <tr>\n",
              "      <th>8</th>\n",
              "      <td>8.3</td>\n",
              "      <td>81</td>\n",
              "    </tr>\n",
              "    <tr>\n",
              "      <th>9</th>\n",
              "      <td>2.7</td>\n",
              "      <td>25</td>\n",
              "    </tr>\n",
              "    <tr>\n",
              "      <th>10</th>\n",
              "      <td>7.7</td>\n",
              "      <td>85</td>\n",
              "    </tr>\n",
              "    <tr>\n",
              "      <th>11</th>\n",
              "      <td>5.9</td>\n",
              "      <td>62</td>\n",
              "    </tr>\n",
              "    <tr>\n",
              "      <th>12</th>\n",
              "      <td>4.5</td>\n",
              "      <td>41</td>\n",
              "    </tr>\n",
              "    <tr>\n",
              "      <th>13</th>\n",
              "      <td>3.3</td>\n",
              "      <td>42</td>\n",
              "    </tr>\n",
              "    <tr>\n",
              "      <th>14</th>\n",
              "      <td>1.1</td>\n",
              "      <td>17</td>\n",
              "    </tr>\n",
              "    <tr>\n",
              "      <th>15</th>\n",
              "      <td>8.9</td>\n",
              "      <td>95</td>\n",
              "    </tr>\n",
              "    <tr>\n",
              "      <th>16</th>\n",
              "      <td>2.5</td>\n",
              "      <td>30</td>\n",
              "    </tr>\n",
              "    <tr>\n",
              "      <th>17</th>\n",
              "      <td>1.9</td>\n",
              "      <td>24</td>\n",
              "    </tr>\n",
              "    <tr>\n",
              "      <th>18</th>\n",
              "      <td>6.1</td>\n",
              "      <td>67</td>\n",
              "    </tr>\n",
              "    <tr>\n",
              "      <th>19</th>\n",
              "      <td>7.4</td>\n",
              "      <td>69</td>\n",
              "    </tr>\n",
              "    <tr>\n",
              "      <th>20</th>\n",
              "      <td>2.7</td>\n",
              "      <td>30</td>\n",
              "    </tr>\n",
              "    <tr>\n",
              "      <th>21</th>\n",
              "      <td>4.8</td>\n",
              "      <td>54</td>\n",
              "    </tr>\n",
              "    <tr>\n",
              "      <th>22</th>\n",
              "      <td>3.8</td>\n",
              "      <td>35</td>\n",
              "    </tr>\n",
              "    <tr>\n",
              "      <th>23</th>\n",
              "      <td>6.9</td>\n",
              "      <td>76</td>\n",
              "    </tr>\n",
              "    <tr>\n",
              "      <th>24</th>\n",
              "      <td>7.8</td>\n",
              "      <td>86</td>\n",
              "    </tr>\n",
              "  </tbody>\n",
              "</table>\n",
              "</div>\n",
              "      <button class=\"colab-df-convert\" onclick=\"convertToInteractive('df-c40a2ac8-fa07-4b7f-9c63-6352088b5a46')\"\n",
              "              title=\"Convert this dataframe to an interactive table.\"\n",
              "              style=\"display:none;\">\n",
              "        \n",
              "  <svg xmlns=\"http://www.w3.org/2000/svg\" height=\"24px\"viewBox=\"0 0 24 24\"\n",
              "       width=\"24px\">\n",
              "    <path d=\"M0 0h24v24H0V0z\" fill=\"none\"/>\n",
              "    <path d=\"M18.56 5.44l.94 2.06.94-2.06 2.06-.94-2.06-.94-.94-2.06-.94 2.06-2.06.94zm-11 1L8.5 8.5l.94-2.06 2.06-.94-2.06-.94L8.5 2.5l-.94 2.06-2.06.94zm10 10l.94 2.06.94-2.06 2.06-.94-2.06-.94-.94-2.06-.94 2.06-2.06.94z\"/><path d=\"M17.41 7.96l-1.37-1.37c-.4-.4-.92-.59-1.43-.59-.52 0-1.04.2-1.43.59L10.3 9.45l-7.72 7.72c-.78.78-.78 2.05 0 2.83L4 21.41c.39.39.9.59 1.41.59.51 0 1.02-.2 1.41-.59l7.78-7.78 2.81-2.81c.8-.78.8-2.07 0-2.86zM5.41 20L4 18.59l7.72-7.72 1.47 1.35L5.41 20z\"/>\n",
              "  </svg>\n",
              "      </button>\n",
              "      \n",
              "  <style>\n",
              "    .colab-df-container {\n",
              "      display:flex;\n",
              "      flex-wrap:wrap;\n",
              "      gap: 12px;\n",
              "    }\n",
              "\n",
              "    .colab-df-convert {\n",
              "      background-color: #E8F0FE;\n",
              "      border: none;\n",
              "      border-radius: 50%;\n",
              "      cursor: pointer;\n",
              "      display: none;\n",
              "      fill: #1967D2;\n",
              "      height: 32px;\n",
              "      padding: 0 0 0 0;\n",
              "      width: 32px;\n",
              "    }\n",
              "\n",
              "    .colab-df-convert:hover {\n",
              "      background-color: #E2EBFA;\n",
              "      box-shadow: 0px 1px 2px rgba(60, 64, 67, 0.3), 0px 1px 3px 1px rgba(60, 64, 67, 0.15);\n",
              "      fill: #174EA6;\n",
              "    }\n",
              "\n",
              "    [theme=dark] .colab-df-convert {\n",
              "      background-color: #3B4455;\n",
              "      fill: #D2E3FC;\n",
              "    }\n",
              "\n",
              "    [theme=dark] .colab-df-convert:hover {\n",
              "      background-color: #434B5C;\n",
              "      box-shadow: 0px 1px 3px 1px rgba(0, 0, 0, 0.15);\n",
              "      filter: drop-shadow(0px 1px 2px rgba(0, 0, 0, 0.3));\n",
              "      fill: #FFFFFF;\n",
              "    }\n",
              "  </style>\n",
              "\n",
              "      <script>\n",
              "        const buttonEl =\n",
              "          document.querySelector('#df-c40a2ac8-fa07-4b7f-9c63-6352088b5a46 button.colab-df-convert');\n",
              "        buttonEl.style.display =\n",
              "          google.colab.kernel.accessAllowed ? 'block' : 'none';\n",
              "\n",
              "        async function convertToInteractive(key) {\n",
              "          const element = document.querySelector('#df-c40a2ac8-fa07-4b7f-9c63-6352088b5a46');\n",
              "          const dataTable =\n",
              "            await google.colab.kernel.invokeFunction('convertToInteractive',\n",
              "                                                     [key], {});\n",
              "          if (!dataTable) return;\n",
              "\n",
              "          const docLinkHtml = 'Like what you see? Visit the ' +\n",
              "            '<a target=\"_blank\" href=https://colab.research.google.com/notebooks/data_table.ipynb>data table notebook</a>'\n",
              "            + ' to learn more about interactive tables.';\n",
              "          element.innerHTML = '';\n",
              "          dataTable['output_type'] = 'display_data';\n",
              "          await google.colab.output.renderOutput(dataTable, element);\n",
              "          const docLink = document.createElement('div');\n",
              "          docLink.innerHTML = docLinkHtml;\n",
              "          element.appendChild(docLink);\n",
              "        }\n",
              "      </script>\n",
              "    </div>\n",
              "  </div>\n",
              "  "
            ]
          },
          "metadata": {},
          "execution_count": 6
        }
      ]
    },
    {
      "cell_type": "code",
      "source": [
        "x = df.Hours  #independent variable"
      ],
      "metadata": {
        "id": "-GPawFDS3BSl"
      },
      "execution_count": 14,
      "outputs": []
    },
    {
      "cell_type": "code",
      "source": [
        "y = df.Scores  #dependent variable"
      ],
      "metadata": {
        "id": "TIis7lmQ3Ntl"
      },
      "execution_count": 15,
      "outputs": []
    },
    {
      "cell_type": "markdown",
      "source": [
        "### **Calculating Linear Regression-**\n",
        "\n",
        ">  y = m * x + b , where"
      ],
      "metadata": {
        "id": "Otlu8Loc3xvX"
      }
    },
    {
      "cell_type": "markdown",
      "source": [
        "![image.png](data:image/png;base64,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)\n"
      ],
      "metadata": {
        "id": "dPeG3puG3i4m"
      }
    },
    {
      "cell_type": "code",
      "source": [
        ""
      ],
      "metadata": {
        "id": "dNIEcw4R4T4s"
      },
      "execution_count": null,
      "outputs": []
    },
    {
      "cell_type": "markdown",
      "source": [
        "**Calculating (xmean - x)^2 ; that is** \n",
        "\n",
        "![image.png](data:image/png;base64,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)"
      ],
      "metadata": {
        "id": "nhzbBcim9Dwo"
      }
    },
    {
      "cell_type": "code",
      "source": [
        "xmean = x.mean()"
      ],
      "metadata": {
        "id": "wze4lvKx9J1J"
      },
      "execution_count": 16,
      "outputs": []
    },
    {
      "cell_type": "code",
      "source": [
        "xmean"
      ],
      "metadata": {
        "colab": {
          "base_uri": "https://localhost:8080/"
        },
        "id": "mJ3X61Az9sfg",
        "outputId": "9bf775a2-08d4-4061-dc02-038270574ad5"
      },
      "execution_count": 17,
      "outputs": [
        {
          "output_type": "execute_result",
          "data": {
            "text/plain": [
              "5.012"
            ]
          },
          "metadata": {},
          "execution_count": 17
        }
      ]
    },
    {
      "cell_type": "code",
      "source": [
        "df['diffx'] = xmean - x  #xmean  -  x"
      ],
      "metadata": {
        "id": "ChS0dASz9x7j"
      },
      "execution_count": 18,
      "outputs": []
    },
    {
      "cell_type": "code",
      "source": [
        "df"
      ],
      "metadata": {
        "colab": {
          "base_uri": "https://localhost:8080/",
          "height": 833
        },
        "id": "Va5kVVc499Dz",
        "outputId": "df787a45-b869-4f45-a391-76cac76ff58f"
      },
      "execution_count": 19,
      "outputs": [
        {
          "output_type": "execute_result",
          "data": {
            "text/plain": [
              "    Hours  Scores  diffx\n",
              "0     2.5      21  2.512\n",
              "1     5.1      47 -0.088\n",
              "2     3.2      27  1.812\n",
              "3     8.5      75 -3.488\n",
              "4     3.5      30  1.512\n",
              "5     1.5      20  3.512\n",
              "6     9.2      88 -4.188\n",
              "7     5.5      60 -0.488\n",
              "8     8.3      81 -3.288\n",
              "9     2.7      25  2.312\n",
              "10    7.7      85 -2.688\n",
              "11    5.9      62 -0.888\n",
              "12    4.5      41  0.512\n",
              "13    3.3      42  1.712\n",
              "14    1.1      17  3.912\n",
              "15    8.9      95 -3.888\n",
              "16    2.5      30  2.512\n",
              "17    1.9      24  3.112\n",
              "18    6.1      67 -1.088\n",
              "19    7.4      69 -2.388\n",
              "20    2.7      30  2.312\n",
              "21    4.8      54  0.212\n",
              "22    3.8      35  1.212\n",
              "23    6.9      76 -1.888\n",
              "24    7.8      86 -2.788"
            ],
            "text/html": [
              "\n",
              "  <div id=\"df-eaee25fa-bc41-4a72-9255-505d75545aea\">\n",
              "    <div class=\"colab-df-container\">\n",
              "      <div>\n",
              "<style scoped>\n",
              "    .dataframe tbody tr th:only-of-type {\n",
              "        vertical-align: middle;\n",
              "    }\n",
              "\n",
              "    .dataframe tbody tr th {\n",
              "        vertical-align: top;\n",
              "    }\n",
              "\n",
              "    .dataframe thead th {\n",
              "        text-align: right;\n",
              "    }\n",
              "</style>\n",
              "<table border=\"1\" class=\"dataframe\">\n",
              "  <thead>\n",
              "    <tr style=\"text-align: right;\">\n",
              "      <th></th>\n",
              "      <th>Hours</th>\n",
              "      <th>Scores</th>\n",
              "      <th>diffx</th>\n",
              "    </tr>\n",
              "  </thead>\n",
              "  <tbody>\n",
              "    <tr>\n",
              "      <th>0</th>\n",
              "      <td>2.5</td>\n",
              "      <td>21</td>\n",
              "      <td>2.512</td>\n",
              "    </tr>\n",
              "    <tr>\n",
              "      <th>1</th>\n",
              "      <td>5.1</td>\n",
              "      <td>47</td>\n",
              "      <td>-0.088</td>\n",
              "    </tr>\n",
              "    <tr>\n",
              "      <th>2</th>\n",
              "      <td>3.2</td>\n",
              "      <td>27</td>\n",
              "      <td>1.812</td>\n",
              "    </tr>\n",
              "    <tr>\n",
              "      <th>3</th>\n",
              "      <td>8.5</td>\n",
              "      <td>75</td>\n",
              "      <td>-3.488</td>\n",
              "    </tr>\n",
              "    <tr>\n",
              "      <th>4</th>\n",
              "      <td>3.5</td>\n",
              "      <td>30</td>\n",
              "      <td>1.512</td>\n",
              "    </tr>\n",
              "    <tr>\n",
              "      <th>5</th>\n",
              "      <td>1.5</td>\n",
              "      <td>20</td>\n",
              "      <td>3.512</td>\n",
              "    </tr>\n",
              "    <tr>\n",
              "      <th>6</th>\n",
              "      <td>9.2</td>\n",
              "      <td>88</td>\n",
              "      <td>-4.188</td>\n",
              "    </tr>\n",
              "    <tr>\n",
              "      <th>7</th>\n",
              "      <td>5.5</td>\n",
              "      <td>60</td>\n",
              "      <td>-0.488</td>\n",
              "    </tr>\n",
              "    <tr>\n",
              "      <th>8</th>\n",
              "      <td>8.3</td>\n",
              "      <td>81</td>\n",
              "      <td>-3.288</td>\n",
              "    </tr>\n",
              "    <tr>\n",
              "      <th>9</th>\n",
              "      <td>2.7</td>\n",
              "      <td>25</td>\n",
              "      <td>2.312</td>\n",
              "    </tr>\n",
              "    <tr>\n",
              "      <th>10</th>\n",
              "      <td>7.7</td>\n",
              "      <td>85</td>\n",
              "      <td>-2.688</td>\n",
              "    </tr>\n",
              "    <tr>\n",
              "      <th>11</th>\n",
              "      <td>5.9</td>\n",
              "      <td>62</td>\n",
              "      <td>-0.888</td>\n",
              "    </tr>\n",
              "    <tr>\n",
              "      <th>12</th>\n",
              "      <td>4.5</td>\n",
              "      <td>41</td>\n",
              "      <td>0.512</td>\n",
              "    </tr>\n",
              "    <tr>\n",
              "      <th>13</th>\n",
              "      <td>3.3</td>\n",
              "      <td>42</td>\n",
              "      <td>1.712</td>\n",
              "    </tr>\n",
              "    <tr>\n",
              "      <th>14</th>\n",
              "      <td>1.1</td>\n",
              "      <td>17</td>\n",
              "      <td>3.912</td>\n",
              "    </tr>\n",
              "    <tr>\n",
              "      <th>15</th>\n",
              "      <td>8.9</td>\n",
              "      <td>95</td>\n",
              "      <td>-3.888</td>\n",
              "    </tr>\n",
              "    <tr>\n",
              "      <th>16</th>\n",
              "      <td>2.5</td>\n",
              "      <td>30</td>\n",
              "      <td>2.512</td>\n",
              "    </tr>\n",
              "    <tr>\n",
              "      <th>17</th>\n",
              "      <td>1.9</td>\n",
              "      <td>24</td>\n",
              "      <td>3.112</td>\n",
              "    </tr>\n",
              "    <tr>\n",
              "      <th>18</th>\n",
              "      <td>6.1</td>\n",
              "      <td>67</td>\n",
              "      <td>-1.088</td>\n",
              "    </tr>\n",
              "    <tr>\n",
              "      <th>19</th>\n",
              "      <td>7.4</td>\n",
              "      <td>69</td>\n",
              "      <td>-2.388</td>\n",
              "    </tr>\n",
              "    <tr>\n",
              "      <th>20</th>\n",
              "      <td>2.7</td>\n",
              "      <td>30</td>\n",
              "      <td>2.312</td>\n",
              "    </tr>\n",
              "    <tr>\n",
              "      <th>21</th>\n",
              "      <td>4.8</td>\n",
              "      <td>54</td>\n",
              "      <td>0.212</td>\n",
              "    </tr>\n",
              "    <tr>\n",
              "      <th>22</th>\n",
              "      <td>3.8</td>\n",
              "      <td>35</td>\n",
              "      <td>1.212</td>\n",
              "    </tr>\n",
              "    <tr>\n",
              "      <th>23</th>\n",
              "      <td>6.9</td>\n",
              "      <td>76</td>\n",
              "      <td>-1.888</td>\n",
              "    </tr>\n",
              "    <tr>\n",
              "      <th>24</th>\n",
              "      <td>7.8</td>\n",
              "      <td>86</td>\n",
              "      <td>-2.788</td>\n",
              "    </tr>\n",
              "  </tbody>\n",
              "</table>\n",
              "</div>\n",
              "      <button class=\"colab-df-convert\" onclick=\"convertToInteractive('df-eaee25fa-bc41-4a72-9255-505d75545aea')\"\n",
              "              title=\"Convert this dataframe to an interactive table.\"\n",
              "              style=\"display:none;\">\n",
              "        \n",
              "  <svg xmlns=\"http://www.w3.org/2000/svg\" height=\"24px\"viewBox=\"0 0 24 24\"\n",
              "       width=\"24px\">\n",
              "    <path d=\"M0 0h24v24H0V0z\" fill=\"none\"/>\n",
              "    <path d=\"M18.56 5.44l.94 2.06.94-2.06 2.06-.94-2.06-.94-.94-2.06-.94 2.06-2.06.94zm-11 1L8.5 8.5l.94-2.06 2.06-.94-2.06-.94L8.5 2.5l-.94 2.06-2.06.94zm10 10l.94 2.06.94-2.06 2.06-.94-2.06-.94-.94-2.06-.94 2.06-2.06.94z\"/><path d=\"M17.41 7.96l-1.37-1.37c-.4-.4-.92-.59-1.43-.59-.52 0-1.04.2-1.43.59L10.3 9.45l-7.72 7.72c-.78.78-.78 2.05 0 2.83L4 21.41c.39.39.9.59 1.41.59.51 0 1.02-.2 1.41-.59l7.78-7.78 2.81-2.81c.8-.78.8-2.07 0-2.86zM5.41 20L4 18.59l7.72-7.72 1.47 1.35L5.41 20z\"/>\n",
              "  </svg>\n",
              "      </button>\n",
              "      \n",
              "  <style>\n",
              "    .colab-df-container {\n",
              "      display:flex;\n",
              "      flex-wrap:wrap;\n",
              "      gap: 12px;\n",
              "    }\n",
              "\n",
              "    .colab-df-convert {\n",
              "      background-color: #E8F0FE;\n",
              "      border: none;\n",
              "      border-radius: 50%;\n",
              "      cursor: pointer;\n",
              "      display: none;\n",
              "      fill: #1967D2;\n",
              "      height: 32px;\n",
              "      padding: 0 0 0 0;\n",
              "      width: 32px;\n",
              "    }\n",
              "\n",
              "    .colab-df-convert:hover {\n",
              "      background-color: #E2EBFA;\n",
              "      box-shadow: 0px 1px 2px rgba(60, 64, 67, 0.3), 0px 1px 3px 1px rgba(60, 64, 67, 0.15);\n",
              "      fill: #174EA6;\n",
              "    }\n",
              "\n",
              "    [theme=dark] .colab-df-convert {\n",
              "      background-color: #3B4455;\n",
              "      fill: #D2E3FC;\n",
              "    }\n",
              "\n",
              "    [theme=dark] .colab-df-convert:hover {\n",
              "      background-color: #434B5C;\n",
              "      box-shadow: 0px 1px 3px 1px rgba(0, 0, 0, 0.15);\n",
              "      filter: drop-shadow(0px 1px 2px rgba(0, 0, 0, 0.3));\n",
              "      fill: #FFFFFF;\n",
              "    }\n",
              "  </style>\n",
              "\n",
              "      <script>\n",
              "        const buttonEl =\n",
              "          document.querySelector('#df-eaee25fa-bc41-4a72-9255-505d75545aea button.colab-df-convert');\n",
              "        buttonEl.style.display =\n",
              "          google.colab.kernel.accessAllowed ? 'block' : 'none';\n",
              "\n",
              "        async function convertToInteractive(key) {\n",
              "          const element = document.querySelector('#df-eaee25fa-bc41-4a72-9255-505d75545aea');\n",
              "          const dataTable =\n",
              "            await google.colab.kernel.invokeFunction('convertToInteractive',\n",
              "                                                     [key], {});\n",
              "          if (!dataTable) return;\n",
              "\n",
              "          const docLinkHtml = 'Like what you see? Visit the ' +\n",
              "            '<a target=\"_blank\" href=https://colab.research.google.com/notebooks/data_table.ipynb>data table notebook</a>'\n",
              "            + ' to learn more about interactive tables.';\n",
              "          element.innerHTML = '';\n",
              "          dataTable['output_type'] = 'display_data';\n",
              "          await google.colab.output.renderOutput(dataTable, element);\n",
              "          const docLink = document.createElement('div');\n",
              "          docLink.innerHTML = docLinkHtml;\n",
              "          element.appendChild(docLink);\n",
              "        }\n",
              "      </script>\n",
              "    </div>\n",
              "  </div>\n",
              "  "
            ]
          },
          "metadata": {},
          "execution_count": 19
        }
      ]
    },
    {
      "cell_type": "code",
      "source": [
        "df['diffx_squared'] = df.diffx**2   # ( xmean - x ) ^2"
      ],
      "metadata": {
        "id": "lizfnyfH99z6"
      },
      "execution_count": 20,
      "outputs": []
    },
    {
      "cell_type": "code",
      "source": [
        "Denominator = df.diffx_squared.sum()"
      ],
      "metadata": {
        "id": "9lQDYnBa-UYl"
      },
      "execution_count": 26,
      "outputs": []
    },
    {
      "cell_type": "code",
      "source": [
        "Denominator"
      ],
      "metadata": {
        "colab": {
          "base_uri": "https://localhost:8080/"
        },
        "id": "AmE6U_d--qPg",
        "outputId": "042b1279-257e-468b-86f8-ebb602d23498"
      },
      "execution_count": 27,
      "outputs": [
        {
          "output_type": "execute_result",
          "data": {
            "text/plain": [
              "153.0264"
            ]
          },
          "metadata": {},
          "execution_count": 27
        }
      ]
    },
    {
      "cell_type": "code",
      "source": [
        ""
      ],
      "metadata": {
        "id": "IUFjF5sj-spb"
      },
      "execution_count": null,
      "outputs": []
    },
    {
      "cell_type": "markdown",
      "source": [
        "**Calculating (xmean - x) * (ymean - y), that is** <br>\n",
        "![image.png](data:image/png;base64,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)"
      ],
      "metadata": {
        "id": "hip0yZQ6_dEu"
      }
    },
    {
      "cell_type": "code",
      "source": [
        "ymean = y.mean()"
      ],
      "metadata": {
        "id": "Dlsf1LmI_hnD"
      },
      "execution_count": 23,
      "outputs": []
    },
    {
      "cell_type": "code",
      "source": [
        "df['diffy'] = ymean - y"
      ],
      "metadata": {
        "id": "-9-gO0_K_rUI"
      },
      "execution_count": 24,
      "outputs": []
    },
    {
      "cell_type": "code",
      "source": [
        "df"
      ],
      "metadata": {
        "colab": {
          "base_uri": "https://localhost:8080/",
          "height": 833
        },
        "id": "FuZPfZ9W_v-b",
        "outputId": "d4160ad2-9d36-4639-a508-40b6a7b55219"
      },
      "execution_count": 25,
      "outputs": [
        {
          "output_type": "execute_result",
          "data": {
            "text/plain": [
              "    Hours  Scores  diffx  diffx_squared  diffy\n",
              "0     2.5      21  2.512       6.310144  30.48\n",
              "1     5.1      47 -0.088       0.007744   4.48\n",
              "2     3.2      27  1.812       3.283344  24.48\n",
              "3     8.5      75 -3.488      12.166144 -23.52\n",
              "4     3.5      30  1.512       2.286144  21.48\n",
              "5     1.5      20  3.512      12.334144  31.48\n",
              "6     9.2      88 -4.188      17.539344 -36.52\n",
              "7     5.5      60 -0.488       0.238144  -8.52\n",
              "8     8.3      81 -3.288      10.810944 -29.52\n",
              "9     2.7      25  2.312       5.345344  26.48\n",
              "10    7.7      85 -2.688       7.225344 -33.52\n",
              "11    5.9      62 -0.888       0.788544 -10.52\n",
              "12    4.5      41  0.512       0.262144  10.48\n",
              "13    3.3      42  1.712       2.930944   9.48\n",
              "14    1.1      17  3.912      15.303744  34.48\n",
              "15    8.9      95 -3.888      15.116544 -43.52\n",
              "16    2.5      30  2.512       6.310144  21.48\n",
              "17    1.9      24  3.112       9.684544  27.48\n",
              "18    6.1      67 -1.088       1.183744 -15.52\n",
              "19    7.4      69 -2.388       5.702544 -17.52\n",
              "20    2.7      30  2.312       5.345344  21.48\n",
              "21    4.8      54  0.212       0.044944  -2.52\n",
              "22    3.8      35  1.212       1.468944  16.48\n",
              "23    6.9      76 -1.888       3.564544 -24.52\n",
              "24    7.8      86 -2.788       7.772944 -34.52"
            ],
            "text/html": [
              "\n",
              "  <div id=\"df-404d2576-2df1-4181-ba85-7b1b11e0749c\">\n",
              "    <div class=\"colab-df-container\">\n",
              "      <div>\n",
              "<style scoped>\n",
              "    .dataframe tbody tr th:only-of-type {\n",
              "        vertical-align: middle;\n",
              "    }\n",
              "\n",
              "    .dataframe tbody tr th {\n",
              "        vertical-align: top;\n",
              "    }\n",
              "\n",
              "    .dataframe thead th {\n",
              "        text-align: right;\n",
              "    }\n",
              "</style>\n",
              "<table border=\"1\" class=\"dataframe\">\n",
              "  <thead>\n",
              "    <tr style=\"text-align: right;\">\n",
              "      <th></th>\n",
              "      <th>Hours</th>\n",
              "      <th>Scores</th>\n",
              "      <th>diffx</th>\n",
              "      <th>diffx_squared</th>\n",
              "      <th>diffy</th>\n",
              "    </tr>\n",
              "  </thead>\n",
              "  <tbody>\n",
              "    <tr>\n",
              "      <th>0</th>\n",
              "      <td>2.5</td>\n",
              "      <td>21</td>\n",
              "      <td>2.512</td>\n",
              "      <td>6.310144</td>\n",
              "      <td>30.48</td>\n",
              "    </tr>\n",
              "    <tr>\n",
              "      <th>1</th>\n",
              "      <td>5.1</td>\n",
              "      <td>47</td>\n",
              "      <td>-0.088</td>\n",
              "      <td>0.007744</td>\n",
              "      <td>4.48</td>\n",
              "    </tr>\n",
              "    <tr>\n",
              "      <th>2</th>\n",
              "      <td>3.2</td>\n",
              "      <td>27</td>\n",
              "      <td>1.812</td>\n",
              "      <td>3.283344</td>\n",
              "      <td>24.48</td>\n",
              "    </tr>\n",
              "    <tr>\n",
              "      <th>3</th>\n",
              "      <td>8.5</td>\n",
              "      <td>75</td>\n",
              "      <td>-3.488</td>\n",
              "      <td>12.166144</td>\n",
              "      <td>-23.52</td>\n",
              "    </tr>\n",
              "    <tr>\n",
              "      <th>4</th>\n",
              "      <td>3.5</td>\n",
              "      <td>30</td>\n",
              "      <td>1.512</td>\n",
              "      <td>2.286144</td>\n",
              "      <td>21.48</td>\n",
              "    </tr>\n",
              "    <tr>\n",
              "      <th>5</th>\n",
              "      <td>1.5</td>\n",
              "      <td>20</td>\n",
              "      <td>3.512</td>\n",
              "      <td>12.334144</td>\n",
              "      <td>31.48</td>\n",
              "    </tr>\n",
              "    <tr>\n",
              "      <th>6</th>\n",
              "      <td>9.2</td>\n",
              "      <td>88</td>\n",
              "      <td>-4.188</td>\n",
              "      <td>17.539344</td>\n",
              "      <td>-36.52</td>\n",
              "    </tr>\n",
              "    <tr>\n",
              "      <th>7</th>\n",
              "      <td>5.5</td>\n",
              "      <td>60</td>\n",
              "      <td>-0.488</td>\n",
              "      <td>0.238144</td>\n",
              "      <td>-8.52</td>\n",
              "    </tr>\n",
              "    <tr>\n",
              "      <th>8</th>\n",
              "      <td>8.3</td>\n",
              "      <td>81</td>\n",
              "      <td>-3.288</td>\n",
              "      <td>10.810944</td>\n",
              "      <td>-29.52</td>\n",
              "    </tr>\n",
              "    <tr>\n",
              "      <th>9</th>\n",
              "      <td>2.7</td>\n",
              "      <td>25</td>\n",
              "      <td>2.312</td>\n",
              "      <td>5.345344</td>\n",
              "      <td>26.48</td>\n",
              "    </tr>\n",
              "    <tr>\n",
              "      <th>10</th>\n",
              "      <td>7.7</td>\n",
              "      <td>85</td>\n",
              "      <td>-2.688</td>\n",
              "      <td>7.225344</td>\n",
              "      <td>-33.52</td>\n",
              "    </tr>\n",
              "    <tr>\n",
              "      <th>11</th>\n",
              "      <td>5.9</td>\n",
              "      <td>62</td>\n",
              "      <td>-0.888</td>\n",
              "      <td>0.788544</td>\n",
              "      <td>-10.52</td>\n",
              "    </tr>\n",
              "    <tr>\n",
              "      <th>12</th>\n",
              "      <td>4.5</td>\n",
              "      <td>41</td>\n",
              "      <td>0.512</td>\n",
              "      <td>0.262144</td>\n",
              "      <td>10.48</td>\n",
              "    </tr>\n",
              "    <tr>\n",
              "      <th>13</th>\n",
              "      <td>3.3</td>\n",
              "      <td>42</td>\n",
              "      <td>1.712</td>\n",
              "      <td>2.930944</td>\n",
              "      <td>9.48</td>\n",
              "    </tr>\n",
              "    <tr>\n",
              "      <th>14</th>\n",
              "      <td>1.1</td>\n",
              "      <td>17</td>\n",
              "      <td>3.912</td>\n",
              "      <td>15.303744</td>\n",
              "      <td>34.48</td>\n",
              "    </tr>\n",
              "    <tr>\n",
              "      <th>15</th>\n",
              "      <td>8.9</td>\n",
              "      <td>95</td>\n",
              "      <td>-3.888</td>\n",
              "      <td>15.116544</td>\n",
              "      <td>-43.52</td>\n",
              "    </tr>\n",
              "    <tr>\n",
              "      <th>16</th>\n",
              "      <td>2.5</td>\n",
              "      <td>30</td>\n",
              "      <td>2.512</td>\n",
              "      <td>6.310144</td>\n",
              "      <td>21.48</td>\n",
              "    </tr>\n",
              "    <tr>\n",
              "      <th>17</th>\n",
              "      <td>1.9</td>\n",
              "      <td>24</td>\n",
              "      <td>3.112</td>\n",
              "      <td>9.684544</td>\n",
              "      <td>27.48</td>\n",
              "    </tr>\n",
              "    <tr>\n",
              "      <th>18</th>\n",
              "      <td>6.1</td>\n",
              "      <td>67</td>\n",
              "      <td>-1.088</td>\n",
              "      <td>1.183744</td>\n",
              "      <td>-15.52</td>\n",
              "    </tr>\n",
              "    <tr>\n",
              "      <th>19</th>\n",
              "      <td>7.4</td>\n",
              "      <td>69</td>\n",
              "      <td>-2.388</td>\n",
              "      <td>5.702544</td>\n",
              "      <td>-17.52</td>\n",
              "    </tr>\n",
              "    <tr>\n",
              "      <th>20</th>\n",
              "      <td>2.7</td>\n",
              "      <td>30</td>\n",
              "      <td>2.312</td>\n",
              "      <td>5.345344</td>\n",
              "      <td>21.48</td>\n",
              "    </tr>\n",
              "    <tr>\n",
              "      <th>21</th>\n",
              "      <td>4.8</td>\n",
              "      <td>54</td>\n",
              "      <td>0.212</td>\n",
              "      <td>0.044944</td>\n",
              "      <td>-2.52</td>\n",
              "    </tr>\n",
              "    <tr>\n",
              "      <th>22</th>\n",
              "      <td>3.8</td>\n",
              "      <td>35</td>\n",
              "      <td>1.212</td>\n",
              "      <td>1.468944</td>\n",
              "      <td>16.48</td>\n",
              "    </tr>\n",
              "    <tr>\n",
              "      <th>23</th>\n",
              "      <td>6.9</td>\n",
              "      <td>76</td>\n",
              "      <td>-1.888</td>\n",
              "      <td>3.564544</td>\n",
              "      <td>-24.52</td>\n",
              "    </tr>\n",
              "    <tr>\n",
              "      <th>24</th>\n",
              "      <td>7.8</td>\n",
              "      <td>86</td>\n",
              "      <td>-2.788</td>\n",
              "      <td>7.772944</td>\n",
              "      <td>-34.52</td>\n",
              "    </tr>\n",
              "  </tbody>\n",
              "</table>\n",
              "</div>\n",
              "      <button class=\"colab-df-convert\" onclick=\"convertToInteractive('df-404d2576-2df1-4181-ba85-7b1b11e0749c')\"\n",
              "              title=\"Convert this dataframe to an interactive table.\"\n",
              "              style=\"display:none;\">\n",
              "        \n",
              "  <svg xmlns=\"http://www.w3.org/2000/svg\" height=\"24px\"viewBox=\"0 0 24 24\"\n",
              "       width=\"24px\">\n",
              "    <path d=\"M0 0h24v24H0V0z\" fill=\"none\"/>\n",
              "    <path d=\"M18.56 5.44l.94 2.06.94-2.06 2.06-.94-2.06-.94-.94-2.06-.94 2.06-2.06.94zm-11 1L8.5 8.5l.94-2.06 2.06-.94-2.06-.94L8.5 2.5l-.94 2.06-2.06.94zm10 10l.94 2.06.94-2.06 2.06-.94-2.06-.94-.94-2.06-.94 2.06-2.06.94z\"/><path d=\"M17.41 7.96l-1.37-1.37c-.4-.4-.92-.59-1.43-.59-.52 0-1.04.2-1.43.59L10.3 9.45l-7.72 7.72c-.78.78-.78 2.05 0 2.83L4 21.41c.39.39.9.59 1.41.59.51 0 1.02-.2 1.41-.59l7.78-7.78 2.81-2.81c.8-.78.8-2.07 0-2.86zM5.41 20L4 18.59l7.72-7.72 1.47 1.35L5.41 20z\"/>\n",
              "  </svg>\n",
              "      </button>\n",
              "      \n",
              "  <style>\n",
              "    .colab-df-container {\n",
              "      display:flex;\n",
              "      flex-wrap:wrap;\n",
              "      gap: 12px;\n",
              "    }\n",
              "\n",
              "    .colab-df-convert {\n",
              "      background-color: #E8F0FE;\n",
              "      border: none;\n",
              "      border-radius: 50%;\n",
              "      cursor: pointer;\n",
              "      display: none;\n",
              "      fill: #1967D2;\n",
              "      height: 32px;\n",
              "      padding: 0 0 0 0;\n",
              "      width: 32px;\n",
              "    }\n",
              "\n",
              "    .colab-df-convert:hover {\n",
              "      background-color: #E2EBFA;\n",
              "      box-shadow: 0px 1px 2px rgba(60, 64, 67, 0.3), 0px 1px 3px 1px rgba(60, 64, 67, 0.15);\n",
              "      fill: #174EA6;\n",
              "    }\n",
              "\n",
              "    [theme=dark] .colab-df-convert {\n",
              "      background-color: #3B4455;\n",
              "      fill: #D2E3FC;\n",
              "    }\n",
              "\n",
              "    [theme=dark] .colab-df-convert:hover {\n",
              "      background-color: #434B5C;\n",
              "      box-shadow: 0px 1px 3px 1px rgba(0, 0, 0, 0.15);\n",
              "      filter: drop-shadow(0px 1px 2px rgba(0, 0, 0, 0.3));\n",
              "      fill: #FFFFFF;\n",
              "    }\n",
              "  </style>\n",
              "\n",
              "      <script>\n",
              "        const buttonEl =\n",
              "          document.querySelector('#df-404d2576-2df1-4181-ba85-7b1b11e0749c button.colab-df-convert');\n",
              "        buttonEl.style.display =\n",
              "          google.colab.kernel.accessAllowed ? 'block' : 'none';\n",
              "\n",
              "        async function convertToInteractive(key) {\n",
              "          const element = document.querySelector('#df-404d2576-2df1-4181-ba85-7b1b11e0749c');\n",
              "          const dataTable =\n",
              "            await google.colab.kernel.invokeFunction('convertToInteractive',\n",
              "                                                     [key], {});\n",
              "          if (!dataTable) return;\n",
              "\n",
              "          const docLinkHtml = 'Like what you see? Visit the ' +\n",
              "            '<a target=\"_blank\" href=https://colab.research.google.com/notebooks/data_table.ipynb>data table notebook</a>'\n",
              "            + ' to learn more about interactive tables.';\n",
              "          element.innerHTML = '';\n",
              "          dataTable['output_type'] = 'display_data';\n",
              "          await google.colab.output.renderOutput(dataTable, element);\n",
              "          const docLink = document.createElement('div');\n",
              "          docLink.innerHTML = docLinkHtml;\n",
              "          element.appendChild(docLink);\n",
              "        }\n",
              "      </script>\n",
              "    </div>\n",
              "  </div>\n",
              "  "
            ]
          },
          "metadata": {},
          "execution_count": 25
        }
      ]
    },
    {
      "cell_type": "code",
      "source": [
        "Numerator = (df.diffx * df.diffy).sum()"
      ],
      "metadata": {
        "id": "xH0XAwzk_wvX"
      },
      "execution_count": 28,
      "outputs": []
    },
    {
      "cell_type": "code",
      "source": [
        "Numerator"
      ],
      "metadata": {
        "colab": {
          "base_uri": "https://localhost:8080/"
        },
        "id": "kIXIGj34BAOA",
        "outputId": "2f64cc0e-cf27-4295-8f0c-4140b4e08324"
      },
      "execution_count": 29,
      "outputs": [
        {
          "output_type": "execute_result",
          "data": {
            "text/plain": [
              "1495.9560000000001"
            ]
          },
          "metadata": {},
          "execution_count": 29
        }
      ]
    },
    {
      "cell_type": "code",
      "source": [
        ""
      ],
      "metadata": {
        "id": "YSVLB9eOBCt3"
      },
      "execution_count": null,
      "outputs": []
    },
    {
      "cell_type": "markdown",
      "source": [
        "### **Calculating Slope m** <br>\n",
        "\n",
        "Numerator/Denominator"
      ],
      "metadata": {
        "id": "xF_Dg1qkBG4m"
      }
    },
    {
      "cell_type": "code",
      "source": [
        "m = Numerator/Denominator"
      ],
      "metadata": {
        "id": "fl8NuzIaBJre"
      },
      "execution_count": 30,
      "outputs": []
    },
    {
      "cell_type": "code",
      "source": [
        "m"
      ],
      "metadata": {
        "colab": {
          "base_uri": "https://localhost:8080/"
        },
        "id": "uVAcxD2sBSqd",
        "outputId": "ecfe2a8e-bbca-4b56-d104-12464668e5bb"
      },
      "execution_count": 31,
      "outputs": [
        {
          "output_type": "execute_result",
          "data": {
            "text/plain": [
              "9.775803390787473"
            ]
          },
          "metadata": {},
          "execution_count": 31
        }
      ]
    },
    {
      "cell_type": "code",
      "source": [
        ""
      ],
      "metadata": {
        "id": "QObupI6yBT23"
      },
      "execution_count": null,
      "outputs": []
    },
    {
      "cell_type": "markdown",
      "source": [
        "### **Calculating the intercept b = ymean - m * xmean**"
      ],
      "metadata": {
        "id": "lAFGGAzJBos-"
      }
    },
    {
      "cell_type": "code",
      "source": [
        "b = ymean - m * xmean"
      ],
      "metadata": {
        "id": "-S0MarM-ByY6"
      },
      "execution_count": 32,
      "outputs": []
    },
    {
      "cell_type": "code",
      "source": [
        "b"
      ],
      "metadata": {
        "colab": {
          "base_uri": "https://localhost:8080/"
        },
        "id": "W7TAIvVvB2og",
        "outputId": "17ff8f57-e26b-430d-abc9-ff5d0fd30d3b"
      },
      "execution_count": 33,
      "outputs": [
        {
          "output_type": "execute_result",
          "data": {
            "text/plain": [
              "2.4836734053731817"
            ]
          },
          "metadata": {},
          "execution_count": 33
        }
      ]
    },
    {
      "cell_type": "code",
      "source": [
        ""
      ],
      "metadata": {
        "id": "K3D0cuRiB3eP"
      },
      "execution_count": null,
      "outputs": []
    },
    {
      "cell_type": "markdown",
      "source": [
        "**Predicting the values**"
      ],
      "metadata": {
        "id": "Gwrr6o94CB7E"
      }
    },
    {
      "cell_type": "code",
      "source": [
        "def predict(value):\n",
        "  predict = m*value+b\n",
        "  return predict"
      ],
      "metadata": {
        "id": "YhnFR1erCDjS"
      },
      "execution_count": 34,
      "outputs": []
    },
    {
      "cell_type": "code",
      "source": [
        "predict(7.7)"
      ],
      "metadata": {
        "colab": {
          "base_uri": "https://localhost:8080/"
        },
        "id": "Q2N06VxkCPNr",
        "outputId": "93d6121e-6bba-4eea-cde4-7f2c2bb2073c"
      },
      "execution_count": 36,
      "outputs": [
        {
          "output_type": "execute_result",
          "data": {
            "text/plain": [
              "77.75735951443673"
            ]
          },
          "metadata": {},
          "execution_count": 36
        }
      ]
    },
    {
      "cell_type": "code",
      "source": [
        "import matplotlib.pyplot as plt  #visualizing on graph"
      ],
      "metadata": {
        "id": "0oU2GjBHCk6M"
      },
      "execution_count": 52,
      "outputs": []
    },
    {
      "cell_type": "code",
      "source": [
        "plt.scatter(X,Y)\n",
        "plt.plot(x, m*x+b, 'r')"
      ],
      "metadata": {
        "colab": {
          "base_uri": "https://localhost:8080/",
          "height": 282
        },
        "outputId": "2516d352-bb66-4498-9cba-a394793de56f",
        "id": "Xy3Kq6m5C413"
      },
      "execution_count": 37,
      "outputs": [
        {
          "output_type": "execute_result",
          "data": {
            "text/plain": [
              "[<matplotlib.lines.Line2D at 0x7fd6d337a150>]"
            ]
          },
          "metadata": {},
          "execution_count": 37
        },
        {
          "output_type": "display_data",
          "data": {
            "text/plain": [
              "<Figure size 432x288 with 1 Axes>"
            ],
            "image/png": "[encoded data removed]"
          },
          "metadata": {
            "needs_background": "light"
          }
        }
      ]
    },
    {
      "cell_type": "code",
      "source": [
        ""
      ],
      "metadata": {
        "id": "5_XwEzUzDCjr"
      },
      "execution_count": null,
      "outputs": []
    },
    {
      "cell_type": "markdown",
      "source": [
        "**Using sklearn to check if our model worked perfectly**"
      ],
      "metadata": {
        "id": "TqMfPaaFDkOr"
      }
    },
    {
      "cell_type": "code",
      "source": [
        "from sklearn import linear_model"
      ],
      "metadata": {
        "id": "-CakIgpQDndJ"
      },
      "execution_count": 38,
      "outputs": []
    },
    {
      "cell_type": "code",
      "source": [
        "model = linear_model.LinearRegression()"
      ],
      "metadata": {
        "id": "AYzkO-e6Dtl6"
      },
      "execution_count": 39,
      "outputs": []
    },
    {
      "cell_type": "code",
      "source": [
        "xp = df[['Hours']]"
      ],
      "metadata": {
        "id": "ZeZcP5VRD4-L"
      },
      "execution_count": 43,
      "outputs": []
    },
    {
      "cell_type": "code",
      "source": [
        "yp = df[['Scores']]"
      ],
      "metadata": {
        "id": "XWFHhm__EDPX"
      },
      "execution_count": 44,
      "outputs": []
    },
    {
      "cell_type": "code",
      "source": [
        "model.fit(xp,yp)"
      ],
      "metadata": {
        "colab": {
          "base_uri": "https://localhost:8080/"
        },
        "id": "f9kIFgO4EF0F",
        "outputId": "ff364d89-1bad-43c9-fbc8-a2c479872e31"
      },
      "execution_count": 45,
      "outputs": [
        {
          "output_type": "execute_result",
          "data": {
            "text/plain": [
              "LinearRegression()"
            ]
          },
          "metadata": {},
          "execution_count": 45
        }
      ]
    },
    {
      "cell_type": "code",
      "source": [
        "model.coef_   #the coefficiant m"
      ],
      "metadata": {
        "colab": {
          "base_uri": "https://localhost:8080/"
        },
        "id": "o3TwBtGnELjY",
        "outputId": "e745ad77-ff50-4f37-bc8b-cd9b7f649b57"
      },
      "execution_count": 46,
      "outputs": [
        {
          "output_type": "execute_result",
          "data": {
            "text/plain": [
              "array([[9.77580339]])"
            ]
          },
          "metadata": {},
          "execution_count": 46
        }
      ]
    },
    {
      "cell_type": "code",
      "source": [
        "model.intercept_   #the intercept b"
      ],
      "metadata": {
        "colab": {
          "base_uri": "https://localhost:8080/"
        },
        "id": "GZ2BJ4oKEWTH",
        "outputId": "63cce639-7efa-4ceb-a3c4-7b106796c819"
      },
      "execution_count": 47,
      "outputs": [
        {
          "output_type": "execute_result",
          "data": {
            "text/plain": [
              "array([2.48367341])"
            ]
          },
          "metadata": {},
          "execution_count": 47
        }
      ]
    },
    {
      "cell_type": "code",
      "source": [
        "model.predict([[7.7]])  #final predicted value y = m * x + b"
      ],
      "metadata": {
        "colab": {
          "base_uri": "https://localhost:8080/"
        },
        "id": "-MY4YsmUEbTV",
        "outputId": "c63e6ec5-29b3-4d04-94f1-f04d47e743c4"
      },
      "execution_count": 49,
      "outputs": [
        {
          "output_type": "stream",
          "name": "stderr",
          "text": [
            "/usr/local/lib/python3.7/dist-packages/sklearn/base.py:451: UserWarning: X does not have valid feature names, but LinearRegression was fitted with feature names\n",
            "  \"X does not have valid feature names, but\"\n"
          ]
        },
        {
          "output_type": "execute_result",
          "data": {
            "text/plain": [
              "array([[77.75735951]])"
            ]
          },
          "metadata": {},
          "execution_count": 49
        }
      ]
    },
    {
      "cell_type": "code",
      "source": [
        ""
      ],
      "metadata": {
        "id": "Fn1wnkjXEoAS"
      },
      "execution_count": null,
      "outputs": []
    }
  ]
}